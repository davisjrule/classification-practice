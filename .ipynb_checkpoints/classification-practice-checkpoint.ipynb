{
 "cells": [
  {
   "cell_type": "code",
   "execution_count": 1,
   "metadata": {},
   "outputs": [],
   "source": [
    "# libraries\n",
    "import pandas as pd\n",
    "from matplotlib import pyplot as plt\n",
    "import numpy as np"
   ]
  },
  {
   "cell_type": "markdown",
   "metadata": {},
   "source": [
    "## Student performance data set"
   ]
  },
  {
   "cell_type": "code",
   "execution_count": 2,
   "metadata": {},
   "outputs": [
    {
     "name": "stdout",
     "output_type": "stream",
     "text": [
      "<class 'pandas.core.frame.DataFrame'>\n",
      "RangeIndex: 395 entries, 0 to 394\n",
      "Data columns (total 33 columns):\n",
      " #   Column      Non-Null Count  Dtype \n",
      "---  ------      --------------  ----- \n",
      " 0   school      395 non-null    object\n",
      " 1   sex         395 non-null    object\n",
      " 2   age         395 non-null    int64 \n",
      " 3   address     395 non-null    object\n",
      " 4   famsize     395 non-null    object\n",
      " 5   Pstatus     395 non-null    object\n",
      " 6   Medu        395 non-null    int64 \n",
      " 7   Fedu        395 non-null    int64 \n",
      " 8   Mjob        395 non-null    object\n",
      " 9   Fjob        395 non-null    object\n",
      " 10  reason      395 non-null    object\n",
      " 11  guardian    395 non-null    object\n",
      " 12  traveltime  395 non-null    int64 \n",
      " 13  studytime   395 non-null    int64 \n",
      " 14  failures    395 non-null    int64 \n",
      " 15  schoolsup   395 non-null    object\n",
      " 16  famsup      395 non-null    object\n",
      " 17  paid        395 non-null    object\n",
      " 18  activities  395 non-null    object\n",
      " 19  nursery     395 non-null    object\n",
      " 20  higher      395 non-null    object\n",
      " 21  internet    395 non-null    object\n",
      " 22  romantic    395 non-null    object\n",
      " 23  famrel      395 non-null    int64 \n",
      " 24  freetime    395 non-null    int64 \n",
      " 25  goout       395 non-null    int64 \n",
      " 26  Dalc        395 non-null    int64 \n",
      " 27  Walc        395 non-null    int64 \n",
      " 28  health      395 non-null    int64 \n",
      " 29  absences    395 non-null    int64 \n",
      " 30  G1          395 non-null    int64 \n",
      " 31  G2          395 non-null    int64 \n",
      " 32  G3          395 non-null    int64 \n",
      "dtypes: int64(16), object(17)\n",
      "memory usage: 102.0+ KB\n"
     ]
    },
    {
     "ename": "NameError",
     "evalue": "name 'cols' is not defined",
     "output_type": "error",
     "traceback": [
      "\u001b[0;31m---------------------------------------------------------------------------\u001b[0m",
      "\u001b[0;31mNameError\u001b[0m                                 Traceback (most recent call last)",
      "\u001b[0;32m/var/folders/zk/gq_1njv54tn9pvbmfr94gx5m0000gn/T/ipykernel_2157/1834632540.py\u001b[0m in \u001b[0;36m<module>\u001b[0;34m\u001b[0m\n\u001b[1;32m      2\u001b[0m \u001b[0mmath_data\u001b[0m\u001b[0;34m.\u001b[0m\u001b[0minfo\u001b[0m\u001b[0;34m(\u001b[0m\u001b[0;34m)\u001b[0m\u001b[0;34m\u001b[0m\u001b[0;34m\u001b[0m\u001b[0m\n\u001b[1;32m      3\u001b[0m \u001b[0mmath_data\u001b[0m\u001b[0;34m.\u001b[0m\u001b[0mhead\u001b[0m\u001b[0;34m(\u001b[0m\u001b[0;36m10\u001b[0m\u001b[0;34m)\u001b[0m\u001b[0;34m\u001b[0m\u001b[0;34m\u001b[0m\u001b[0m\n\u001b[0;32m----> 4\u001b[0;31m \u001b[0mmath_data\u001b[0m\u001b[0;34m.\u001b[0m\u001b[0mcolumns\u001b[0m \u001b[0;34m=\u001b[0m \u001b[0mcols\u001b[0m\u001b[0;34m\u001b[0m\u001b[0;34m\u001b[0m\u001b[0m\n\u001b[0m",
      "\u001b[0;31mNameError\u001b[0m: name 'cols' is not defined"
     ]
    }
   ],
   "source": [
    "math_data = pd.read_csv('student-mat.csv',sep = ';')\n",
    "math_data.info()\n",
    "math_data.head(10)\n",
    "math_data.columns = cols"
   ]
  },
  {
   "cell_type": "code",
   "execution_count": 3,
   "metadata": {},
   "outputs": [
    {
     "data": {
      "text/html": [
       "<div>\n",
       "<style scoped>\n",
       "    .dataframe tbody tr th:only-of-type {\n",
       "        vertical-align: middle;\n",
       "    }\n",
       "\n",
       "    .dataframe tbody tr th {\n",
       "        vertical-align: top;\n",
       "    }\n",
       "\n",
       "    .dataframe thead th {\n",
       "        text-align: right;\n",
       "    }\n",
       "</style>\n",
       "<table border=\"1\" class=\"dataframe\">\n",
       "  <thead>\n",
       "    <tr style=\"text-align: right;\">\n",
       "      <th></th>\n",
       "      <th>age</th>\n",
       "      <th>Medu</th>\n",
       "      <th>Fedu</th>\n",
       "      <th>traveltime</th>\n",
       "      <th>studytime</th>\n",
       "      <th>failures</th>\n",
       "      <th>famrel</th>\n",
       "      <th>freetime</th>\n",
       "      <th>goout</th>\n",
       "      <th>Dalc</th>\n",
       "      <th>Walc</th>\n",
       "      <th>health</th>\n",
       "      <th>absences</th>\n",
       "      <th>G1</th>\n",
       "      <th>G2</th>\n",
       "      <th>G3</th>\n",
       "    </tr>\n",
       "  </thead>\n",
       "  <tbody>\n",
       "    <tr>\n",
       "      <th>count</th>\n",
       "      <td>395.000000</td>\n",
       "      <td>395.000000</td>\n",
       "      <td>395.000000</td>\n",
       "      <td>395.000000</td>\n",
       "      <td>395.000000</td>\n",
       "      <td>395.000000</td>\n",
       "      <td>395.000000</td>\n",
       "      <td>395.000000</td>\n",
       "      <td>395.000000</td>\n",
       "      <td>395.000000</td>\n",
       "      <td>395.000000</td>\n",
       "      <td>395.000000</td>\n",
       "      <td>395.000000</td>\n",
       "      <td>395.000000</td>\n",
       "      <td>395.000000</td>\n",
       "      <td>395.000000</td>\n",
       "    </tr>\n",
       "    <tr>\n",
       "      <th>mean</th>\n",
       "      <td>16.696203</td>\n",
       "      <td>2.749367</td>\n",
       "      <td>2.521519</td>\n",
       "      <td>1.448101</td>\n",
       "      <td>2.035443</td>\n",
       "      <td>0.334177</td>\n",
       "      <td>3.944304</td>\n",
       "      <td>3.235443</td>\n",
       "      <td>3.108861</td>\n",
       "      <td>1.481013</td>\n",
       "      <td>2.291139</td>\n",
       "      <td>3.554430</td>\n",
       "      <td>5.708861</td>\n",
       "      <td>10.908861</td>\n",
       "      <td>10.713924</td>\n",
       "      <td>10.415190</td>\n",
       "    </tr>\n",
       "    <tr>\n",
       "      <th>std</th>\n",
       "      <td>1.276043</td>\n",
       "      <td>1.094735</td>\n",
       "      <td>1.088201</td>\n",
       "      <td>0.697505</td>\n",
       "      <td>0.839240</td>\n",
       "      <td>0.743651</td>\n",
       "      <td>0.896659</td>\n",
       "      <td>0.998862</td>\n",
       "      <td>1.113278</td>\n",
       "      <td>0.890741</td>\n",
       "      <td>1.287897</td>\n",
       "      <td>1.390303</td>\n",
       "      <td>8.003096</td>\n",
       "      <td>3.319195</td>\n",
       "      <td>3.761505</td>\n",
       "      <td>4.581443</td>\n",
       "    </tr>\n",
       "    <tr>\n",
       "      <th>min</th>\n",
       "      <td>15.000000</td>\n",
       "      <td>0.000000</td>\n",
       "      <td>0.000000</td>\n",
       "      <td>1.000000</td>\n",
       "      <td>1.000000</td>\n",
       "      <td>0.000000</td>\n",
       "      <td>1.000000</td>\n",
       "      <td>1.000000</td>\n",
       "      <td>1.000000</td>\n",
       "      <td>1.000000</td>\n",
       "      <td>1.000000</td>\n",
       "      <td>1.000000</td>\n",
       "      <td>0.000000</td>\n",
       "      <td>3.000000</td>\n",
       "      <td>0.000000</td>\n",
       "      <td>0.000000</td>\n",
       "    </tr>\n",
       "    <tr>\n",
       "      <th>25%</th>\n",
       "      <td>16.000000</td>\n",
       "      <td>2.000000</td>\n",
       "      <td>2.000000</td>\n",
       "      <td>1.000000</td>\n",
       "      <td>1.000000</td>\n",
       "      <td>0.000000</td>\n",
       "      <td>4.000000</td>\n",
       "      <td>3.000000</td>\n",
       "      <td>2.000000</td>\n",
       "      <td>1.000000</td>\n",
       "      <td>1.000000</td>\n",
       "      <td>3.000000</td>\n",
       "      <td>0.000000</td>\n",
       "      <td>8.000000</td>\n",
       "      <td>9.000000</td>\n",
       "      <td>8.000000</td>\n",
       "    </tr>\n",
       "    <tr>\n",
       "      <th>50%</th>\n",
       "      <td>17.000000</td>\n",
       "      <td>3.000000</td>\n",
       "      <td>2.000000</td>\n",
       "      <td>1.000000</td>\n",
       "      <td>2.000000</td>\n",
       "      <td>0.000000</td>\n",
       "      <td>4.000000</td>\n",
       "      <td>3.000000</td>\n",
       "      <td>3.000000</td>\n",
       "      <td>1.000000</td>\n",
       "      <td>2.000000</td>\n",
       "      <td>4.000000</td>\n",
       "      <td>4.000000</td>\n",
       "      <td>11.000000</td>\n",
       "      <td>11.000000</td>\n",
       "      <td>11.000000</td>\n",
       "    </tr>\n",
       "    <tr>\n",
       "      <th>75%</th>\n",
       "      <td>18.000000</td>\n",
       "      <td>4.000000</td>\n",
       "      <td>3.000000</td>\n",
       "      <td>2.000000</td>\n",
       "      <td>2.000000</td>\n",
       "      <td>0.000000</td>\n",
       "      <td>5.000000</td>\n",
       "      <td>4.000000</td>\n",
       "      <td>4.000000</td>\n",
       "      <td>2.000000</td>\n",
       "      <td>3.000000</td>\n",
       "      <td>5.000000</td>\n",
       "      <td>8.000000</td>\n",
       "      <td>13.000000</td>\n",
       "      <td>13.000000</td>\n",
       "      <td>14.000000</td>\n",
       "    </tr>\n",
       "    <tr>\n",
       "      <th>max</th>\n",
       "      <td>22.000000</td>\n",
       "      <td>4.000000</td>\n",
       "      <td>4.000000</td>\n",
       "      <td>4.000000</td>\n",
       "      <td>4.000000</td>\n",
       "      <td>3.000000</td>\n",
       "      <td>5.000000</td>\n",
       "      <td>5.000000</td>\n",
       "      <td>5.000000</td>\n",
       "      <td>5.000000</td>\n",
       "      <td>5.000000</td>\n",
       "      <td>5.000000</td>\n",
       "      <td>75.000000</td>\n",
       "      <td>19.000000</td>\n",
       "      <td>19.000000</td>\n",
       "      <td>20.000000</td>\n",
       "    </tr>\n",
       "  </tbody>\n",
       "</table>\n",
       "</div>"
      ],
      "text/plain": [
       "              age        Medu        Fedu  traveltime   studytime    failures  \\\n",
       "count  395.000000  395.000000  395.000000  395.000000  395.000000  395.000000   \n",
       "mean    16.696203    2.749367    2.521519    1.448101    2.035443    0.334177   \n",
       "std      1.276043    1.094735    1.088201    0.697505    0.839240    0.743651   \n",
       "min     15.000000    0.000000    0.000000    1.000000    1.000000    0.000000   \n",
       "25%     16.000000    2.000000    2.000000    1.000000    1.000000    0.000000   \n",
       "50%     17.000000    3.000000    2.000000    1.000000    2.000000    0.000000   \n",
       "75%     18.000000    4.000000    3.000000    2.000000    2.000000    0.000000   \n",
       "max     22.000000    4.000000    4.000000    4.000000    4.000000    3.000000   \n",
       "\n",
       "           famrel    freetime       goout        Dalc        Walc      health  \\\n",
       "count  395.000000  395.000000  395.000000  395.000000  395.000000  395.000000   \n",
       "mean     3.944304    3.235443    3.108861    1.481013    2.291139    3.554430   \n",
       "std      0.896659    0.998862    1.113278    0.890741    1.287897    1.390303   \n",
       "min      1.000000    1.000000    1.000000    1.000000    1.000000    1.000000   \n",
       "25%      4.000000    3.000000    2.000000    1.000000    1.000000    3.000000   \n",
       "50%      4.000000    3.000000    3.000000    1.000000    2.000000    4.000000   \n",
       "75%      5.000000    4.000000    4.000000    2.000000    3.000000    5.000000   \n",
       "max      5.000000    5.000000    5.000000    5.000000    5.000000    5.000000   \n",
       "\n",
       "         absences          G1          G2          G3  \n",
       "count  395.000000  395.000000  395.000000  395.000000  \n",
       "mean     5.708861   10.908861   10.713924   10.415190  \n",
       "std      8.003096    3.319195    3.761505    4.581443  \n",
       "min      0.000000    3.000000    0.000000    0.000000  \n",
       "25%      0.000000    8.000000    9.000000    8.000000  \n",
       "50%      4.000000   11.000000   11.000000   11.000000  \n",
       "75%      8.000000   13.000000   13.000000   14.000000  \n",
       "max     75.000000   19.000000   19.000000   20.000000  "
      ]
     },
     "execution_count": 3,
     "metadata": {},
     "output_type": "execute_result"
    }
   ],
   "source": [
    "math_data.describe()"
   ]
  },
  {
   "cell_type": "code",
   "execution_count": 4,
   "metadata": {},
   "outputs": [
    {
     "data": {
      "text/plain": [
       "(array([38.,  0.,  0.,  0.,  1.,  7., 15.,  9., 32., 28., 56., 47., 31.,\n",
       "        31., 27., 33., 16.,  6., 12.,  6.]),\n",
       " array([ 0.,  1.,  2.,  3.,  4.,  5.,  6.,  7.,  8.,  9., 10., 11., 12.,\n",
       "        13., 14., 15., 16., 17., 18., 19., 20.]),\n",
       " <BarContainer object of 20 artists>)"
      ]
     },
     "execution_count": 4,
     "metadata": {},
     "output_type": "execute_result"
    },
    {
     "data": {
      "image/png": "[encoded data removed]",
      "text/plain": [
       "<Figure size 432x288 with 1 Axes>"
      ]
     },
     "metadata": {
      "needs_background": "light"
     },
     "output_type": "display_data"
    }
   ],
   "source": [
    "plt.title(\"Distribution of Student Grades\")\n",
    "plt.xlabel(\"Grades (0-20)\")\n",
    "plt.ylabel(\"Number of students\")\n",
    "plt.rcParams[\"figure.figsize\"] = (10,8)\n",
    "\n",
    "grades = list(math_data.iloc[:,32])\n",
    "students = [i for i in range(len(grades))]\n",
    "\n",
    "grades.sort()\n",
    "\n",
    "#plt.scatter(grades, students)\n",
    "\n",
    "plt.xticks(np.arange(min(grades), max(grades)+1, 1.0))\n",
    "\n",
    "plt.hist(grades, color = 'purple', edgecolor = 'black', bins = int(20))"
   ]
  },
  {
   "cell_type": "markdown",
   "metadata": {},
   "source": [
    "## Encoding data"
   ]
  },
  {
   "cell_type": "code",
   "execution_count": 5,
   "metadata": {
    "scrolled": true
   },
   "outputs": [
    {
     "name": "stdout",
     "output_type": "stream",
     "text": [
      "<class 'pandas.core.frame.DataFrame'>\n",
      "RangeIndex: 395 entries, 0 to 394\n",
      "Data columns (total 59 columns):\n",
      " #   Column             Non-Null Count  Dtype\n",
      "---  ------             --------------  -----\n",
      " 0   romantic_yes       395 non-null    uint8\n",
      " 1   romantic_no        395 non-null    uint8\n",
      " 2   internet_yes       395 non-null    uint8\n",
      " 3   internet_no        395 non-null    uint8\n",
      " 4   higher_yes         395 non-null    uint8\n",
      " 5   higher_no          395 non-null    uint8\n",
      " 6   nursery_yes        395 non-null    uint8\n",
      " 7   nursery_no         395 non-null    uint8\n",
      " 8   activities_yes     395 non-null    uint8\n",
      " 9   activities_no      395 non-null    uint8\n",
      " 10  paid_yes           395 non-null    uint8\n",
      " 11  paid_no            395 non-null    uint8\n",
      " 12  famsup_yes         395 non-null    uint8\n",
      " 13  famsup_no          395 non-null    uint8\n",
      " 14  schoolsup_yes      395 non-null    uint8\n",
      " 15  schoolsup_no       395 non-null    uint8\n",
      " 16  guardian_other     395 non-null    uint8\n",
      " 17  guardian_mother    395 non-null    uint8\n",
      " 18  guardian_father    395 non-null    uint8\n",
      " 19  reason_reputation  395 non-null    uint8\n",
      " 20  reason_other       395 non-null    uint8\n",
      " 21  reason_home        395 non-null    uint8\n",
      " 22  reason_course      395 non-null    uint8\n",
      " 23  Fjob_teacher       395 non-null    uint8\n",
      " 24  Fjob_services      395 non-null    uint8\n",
      " 25  Fjob_other         395 non-null    uint8\n",
      " 26  Fjob_health        395 non-null    uint8\n",
      " 27  Fjob_at_home       395 non-null    uint8\n",
      " 28  Mjob_teacher       395 non-null    uint8\n",
      " 29  Mjob_services      395 non-null    uint8\n",
      " 30  Mjob_other         395 non-null    uint8\n",
      " 31  Mjob_health        395 non-null    uint8\n",
      " 32  Mjob_at_home       395 non-null    uint8\n",
      " 33  Pstatus_T          395 non-null    uint8\n",
      " 34  Pstatus_A          395 non-null    uint8\n",
      " 35  famsize_LE3        395 non-null    uint8\n",
      " 36  famsize_GT3        395 non-null    uint8\n",
      " 37  address_U          395 non-null    uint8\n",
      " 38  address_R          395 non-null    uint8\n",
      " 39  sex_M              395 non-null    uint8\n",
      " 40  sex_F              395 non-null    uint8\n",
      " 41  school_MS          395 non-null    uint8\n",
      " 42  school_GP          395 non-null    uint8\n",
      " 43  age                395 non-null    int64\n",
      " 44  Medu               395 non-null    int64\n",
      " 45  Fedu               395 non-null    int64\n",
      " 46  traveltime         395 non-null    int64\n",
      " 47  studytime          395 non-null    int64\n",
      " 48  failures           395 non-null    int64\n",
      " 49  famrel             395 non-null    int64\n",
      " 50  freetime           395 non-null    int64\n",
      " 51  goout              395 non-null    int64\n",
      " 52  Dalc               395 non-null    int64\n",
      " 53  Walc               395 non-null    int64\n",
      " 54  health             395 non-null    int64\n",
      " 55  absences           395 non-null    int64\n",
      " 56  G1                 395 non-null    int64\n",
      " 57  G2                 395 non-null    int64\n",
      " 58  G3                 395 non-null    int64\n",
      "dtypes: int64(16), uint8(43)\n",
      "memory usage: 66.1 KB\n"
     ]
    },
    {
     "data": {
      "text/html": [
       "<div>\n",
       "<style scoped>\n",
       "    .dataframe tbody tr th:only-of-type {\n",
       "        vertical-align: middle;\n",
       "    }\n",
       "\n",
       "    .dataframe tbody tr th {\n",
       "        vertical-align: top;\n",
       "    }\n",
       "\n",
       "    .dataframe thead th {\n",
       "        text-align: right;\n",
       "    }\n",
       "</style>\n",
       "<table border=\"1\" class=\"dataframe\">\n",
       "  <thead>\n",
       "    <tr style=\"text-align: right;\">\n",
       "      <th></th>\n",
       "      <th>romantic_yes</th>\n",
       "      <th>romantic_no</th>\n",
       "      <th>internet_yes</th>\n",
       "      <th>internet_no</th>\n",
       "      <th>higher_yes</th>\n",
       "      <th>higher_no</th>\n",
       "      <th>nursery_yes</th>\n",
       "      <th>nursery_no</th>\n",
       "      <th>activities_yes</th>\n",
       "      <th>activities_no</th>\n",
       "      <th>...</th>\n",
       "      <th>famrel</th>\n",
       "      <th>freetime</th>\n",
       "      <th>goout</th>\n",
       "      <th>Dalc</th>\n",
       "      <th>Walc</th>\n",
       "      <th>health</th>\n",
       "      <th>absences</th>\n",
       "      <th>G1</th>\n",
       "      <th>G2</th>\n",
       "      <th>G3</th>\n",
       "    </tr>\n",
       "  </thead>\n",
       "  <tbody>\n",
       "    <tr>\n",
       "      <th>0</th>\n",
       "      <td>0</td>\n",
       "      <td>1</td>\n",
       "      <td>0</td>\n",
       "      <td>1</td>\n",
       "      <td>1</td>\n",
       "      <td>0</td>\n",
       "      <td>1</td>\n",
       "      <td>0</td>\n",
       "      <td>0</td>\n",
       "      <td>1</td>\n",
       "      <td>...</td>\n",
       "      <td>4</td>\n",
       "      <td>3</td>\n",
       "      <td>4</td>\n",
       "      <td>1</td>\n",
       "      <td>1</td>\n",
       "      <td>3</td>\n",
       "      <td>6</td>\n",
       "      <td>5</td>\n",
       "      <td>6</td>\n",
       "      <td>6</td>\n",
       "    </tr>\n",
       "    <tr>\n",
       "      <th>1</th>\n",
       "      <td>0</td>\n",
       "      <td>1</td>\n",
       "      <td>1</td>\n",
       "      <td>0</td>\n",
       "      <td>1</td>\n",
       "      <td>0</td>\n",
       "      <td>0</td>\n",
       "      <td>1</td>\n",
       "      <td>0</td>\n",
       "      <td>1</td>\n",
       "      <td>...</td>\n",
       "      <td>5</td>\n",
       "      <td>3</td>\n",
       "      <td>3</td>\n",
       "      <td>1</td>\n",
       "      <td>1</td>\n",
       "      <td>3</td>\n",
       "      <td>4</td>\n",
       "      <td>5</td>\n",
       "      <td>5</td>\n",
       "      <td>6</td>\n",
       "    </tr>\n",
       "    <tr>\n",
       "      <th>2</th>\n",
       "      <td>0</td>\n",
       "      <td>1</td>\n",
       "      <td>1</td>\n",
       "      <td>0</td>\n",
       "      <td>1</td>\n",
       "      <td>0</td>\n",
       "      <td>1</td>\n",
       "      <td>0</td>\n",
       "      <td>0</td>\n",
       "      <td>1</td>\n",
       "      <td>...</td>\n",
       "      <td>4</td>\n",
       "      <td>3</td>\n",
       "      <td>2</td>\n",
       "      <td>2</td>\n",
       "      <td>3</td>\n",
       "      <td>3</td>\n",
       "      <td>10</td>\n",
       "      <td>7</td>\n",
       "      <td>8</td>\n",
       "      <td>10</td>\n",
       "    </tr>\n",
       "    <tr>\n",
       "      <th>3</th>\n",
       "      <td>1</td>\n",
       "      <td>0</td>\n",
       "      <td>1</td>\n",
       "      <td>0</td>\n",
       "      <td>1</td>\n",
       "      <td>0</td>\n",
       "      <td>1</td>\n",
       "      <td>0</td>\n",
       "      <td>1</td>\n",
       "      <td>0</td>\n",
       "      <td>...</td>\n",
       "      <td>3</td>\n",
       "      <td>2</td>\n",
       "      <td>2</td>\n",
       "      <td>1</td>\n",
       "      <td>1</td>\n",
       "      <td>5</td>\n",
       "      <td>2</td>\n",
       "      <td>15</td>\n",
       "      <td>14</td>\n",
       "      <td>15</td>\n",
       "    </tr>\n",
       "    <tr>\n",
       "      <th>4</th>\n",
       "      <td>0</td>\n",
       "      <td>1</td>\n",
       "      <td>0</td>\n",
       "      <td>1</td>\n",
       "      <td>1</td>\n",
       "      <td>0</td>\n",
       "      <td>1</td>\n",
       "      <td>0</td>\n",
       "      <td>0</td>\n",
       "      <td>1</td>\n",
       "      <td>...</td>\n",
       "      <td>4</td>\n",
       "      <td>3</td>\n",
       "      <td>2</td>\n",
       "      <td>1</td>\n",
       "      <td>2</td>\n",
       "      <td>5</td>\n",
       "      <td>4</td>\n",
       "      <td>6</td>\n",
       "      <td>10</td>\n",
       "      <td>10</td>\n",
       "    </tr>\n",
       "    <tr>\n",
       "      <th>5</th>\n",
       "      <td>0</td>\n",
       "      <td>1</td>\n",
       "      <td>1</td>\n",
       "      <td>0</td>\n",
       "      <td>1</td>\n",
       "      <td>0</td>\n",
       "      <td>1</td>\n",
       "      <td>0</td>\n",
       "      <td>1</td>\n",
       "      <td>0</td>\n",
       "      <td>...</td>\n",
       "      <td>5</td>\n",
       "      <td>4</td>\n",
       "      <td>2</td>\n",
       "      <td>1</td>\n",
       "      <td>2</td>\n",
       "      <td>5</td>\n",
       "      <td>10</td>\n",
       "      <td>15</td>\n",
       "      <td>15</td>\n",
       "      <td>15</td>\n",
       "    </tr>\n",
       "    <tr>\n",
       "      <th>6</th>\n",
       "      <td>0</td>\n",
       "      <td>1</td>\n",
       "      <td>1</td>\n",
       "      <td>0</td>\n",
       "      <td>1</td>\n",
       "      <td>0</td>\n",
       "      <td>1</td>\n",
       "      <td>0</td>\n",
       "      <td>0</td>\n",
       "      <td>1</td>\n",
       "      <td>...</td>\n",
       "      <td>4</td>\n",
       "      <td>4</td>\n",
       "      <td>4</td>\n",
       "      <td>1</td>\n",
       "      <td>1</td>\n",
       "      <td>3</td>\n",
       "      <td>0</td>\n",
       "      <td>12</td>\n",
       "      <td>12</td>\n",
       "      <td>11</td>\n",
       "    </tr>\n",
       "    <tr>\n",
       "      <th>7</th>\n",
       "      <td>0</td>\n",
       "      <td>1</td>\n",
       "      <td>0</td>\n",
       "      <td>1</td>\n",
       "      <td>1</td>\n",
       "      <td>0</td>\n",
       "      <td>1</td>\n",
       "      <td>0</td>\n",
       "      <td>0</td>\n",
       "      <td>1</td>\n",
       "      <td>...</td>\n",
       "      <td>4</td>\n",
       "      <td>1</td>\n",
       "      <td>4</td>\n",
       "      <td>1</td>\n",
       "      <td>1</td>\n",
       "      <td>1</td>\n",
       "      <td>6</td>\n",
       "      <td>6</td>\n",
       "      <td>5</td>\n",
       "      <td>6</td>\n",
       "    </tr>\n",
       "    <tr>\n",
       "      <th>8</th>\n",
       "      <td>0</td>\n",
       "      <td>1</td>\n",
       "      <td>1</td>\n",
       "      <td>0</td>\n",
       "      <td>1</td>\n",
       "      <td>0</td>\n",
       "      <td>1</td>\n",
       "      <td>0</td>\n",
       "      <td>0</td>\n",
       "      <td>1</td>\n",
       "      <td>...</td>\n",
       "      <td>4</td>\n",
       "      <td>2</td>\n",
       "      <td>2</td>\n",
       "      <td>1</td>\n",
       "      <td>1</td>\n",
       "      <td>1</td>\n",
       "      <td>0</td>\n",
       "      <td>16</td>\n",
       "      <td>18</td>\n",
       "      <td>19</td>\n",
       "    </tr>\n",
       "    <tr>\n",
       "      <th>9</th>\n",
       "      <td>0</td>\n",
       "      <td>1</td>\n",
       "      <td>1</td>\n",
       "      <td>0</td>\n",
       "      <td>1</td>\n",
       "      <td>0</td>\n",
       "      <td>1</td>\n",
       "      <td>0</td>\n",
       "      <td>1</td>\n",
       "      <td>0</td>\n",
       "      <td>...</td>\n",
       "      <td>5</td>\n",
       "      <td>5</td>\n",
       "      <td>1</td>\n",
       "      <td>1</td>\n",
       "      <td>1</td>\n",
       "      <td>5</td>\n",
       "      <td>0</td>\n",
       "      <td>14</td>\n",
       "      <td>15</td>\n",
       "      <td>15</td>\n",
       "    </tr>\n",
       "  </tbody>\n",
       "</table>\n",
       "<p>10 rows × 59 columns</p>\n",
       "</div>"
      ],
      "text/plain": [
       "   romantic_yes  romantic_no  internet_yes  internet_no  higher_yes  \\\n",
       "0             0            1             0            1           1   \n",
       "1             0            1             1            0           1   \n",
       "2             0            1             1            0           1   \n",
       "3             1            0             1            0           1   \n",
       "4             0            1             0            1           1   \n",
       "5             0            1             1            0           1   \n",
       "6             0            1             1            0           1   \n",
       "7             0            1             0            1           1   \n",
       "8             0            1             1            0           1   \n",
       "9             0            1             1            0           1   \n",
       "\n",
       "   higher_no  nursery_yes  nursery_no  activities_yes  activities_no  ...  \\\n",
       "0          0            1           0               0              1  ...   \n",
       "1          0            0           1               0              1  ...   \n",
       "2          0            1           0               0              1  ...   \n",
       "3          0            1           0               1              0  ...   \n",
       "4          0            1           0               0              1  ...   \n",
       "5          0            1           0               1              0  ...   \n",
       "6          0            1           0               0              1  ...   \n",
       "7          0            1           0               0              1  ...   \n",
       "8          0            1           0               0              1  ...   \n",
       "9          0            1           0               1              0  ...   \n",
       "\n",
       "   famrel  freetime  goout  Dalc  Walc  health  absences  G1  G2  G3  \n",
       "0       4         3      4     1     1       3         6   5   6   6  \n",
       "1       5         3      3     1     1       3         4   5   5   6  \n",
       "2       4         3      2     2     3       3        10   7   8  10  \n",
       "3       3         2      2     1     1       5         2  15  14  15  \n",
       "4       4         3      2     1     2       5         4   6  10  10  \n",
       "5       5         4      2     1     2       5        10  15  15  15  \n",
       "6       4         4      4     1     1       3         0  12  12  11  \n",
       "7       4         1      4     1     1       1         6   6   5   6  \n",
       "8       4         2      2     1     1       1         0  16  18  19  \n",
       "9       5         5      1     1     1       5         0  14  15  15  \n",
       "\n",
       "[10 rows x 59 columns]"
      ]
     },
     "execution_count": 5,
     "metadata": {},
     "output_type": "execute_result"
    }
   ],
   "source": [
    "# categorical data transformation: school\n",
    "\n",
    "school = pd.get_dummies(math_data.school, prefix='school')\n",
    "\n",
    "math_data.insert(0, \"school_GP\", school.iloc[:,0])\n",
    "math_data.insert(0, \"school_MS\", school.iloc[:,1])\n",
    "\n",
    "# categorical data transformation: sex\n",
    "\n",
    "sex = pd.get_dummies(math_data.sex, prefix='sex')\n",
    "\n",
    "math_data.insert(0, \"sex_F\", sex.iloc[:,0])\n",
    "math_data.insert(0, \"sex_M\", sex.iloc[:,1])\n",
    "\n",
    "# categorical data transformation: address\n",
    "\n",
    "address = pd.get_dummies(math_data.address, prefix='address')\n",
    "\n",
    "math_data.insert(0, \"address_R\", address.iloc[:,0])\n",
    "math_data.insert(0, \"address_U\", address.iloc[:,1])\n",
    "\n",
    "# categorical data transformation: famsize\n",
    "\n",
    "famsize = pd.get_dummies(math_data.famsize, prefix='famsize')\n",
    "\n",
    "math_data.insert(0, \"famsize_GT3\", famsize.iloc[:,0])\n",
    "math_data.insert(0, \"famsize_LE3\", famsize.iloc[:,1])\n",
    "\n",
    "# categorical data transformation: Pstatus\n",
    "\n",
    "Pstatus = pd.get_dummies(math_data.Pstatus, prefix='Pstatus')\n",
    "math_data.insert(0, \"Pstatus_A\", Pstatus.iloc[:,0])\n",
    "math_data.insert(0, \"Pstatus_T\", Pstatus.iloc[:,1])\n",
    "\n",
    "# categorical data transformation: Mjob\n",
    "\n",
    "mjob = pd.get_dummies(math_data.Mjob, prefix='Mjob')\n",
    "\n",
    "math_data.insert(0, \"Mjob_at_home\", mjob.iloc[:,0])\n",
    "math_data.insert(0, \"Mjob_health\", mjob.iloc[:,1])\n",
    "math_data.insert(0, \"Mjob_other\", mjob.iloc[:,2])\n",
    "math_data.insert(0, \"Mjob_services\", mjob.iloc[:,3])\n",
    "math_data.insert(0, \"Mjob_teacher\", mjob.iloc[:,4])\n",
    "\n",
    "# categorical data transformation: Fjob\n",
    "\n",
    "fjob = pd.get_dummies(math_data.Fjob, prefix='Fjob')\n",
    "\n",
    "math_data.insert(0, \"Fjob_at_home\", fjob.iloc[:,0])\n",
    "math_data.insert(0, \"Fjob_health\", fjob.iloc[:,1])\n",
    "math_data.insert(0, \"Fjob_other\", fjob.iloc[:,2])\n",
    "math_data.insert(0, \"Fjob_services\", fjob.iloc[:,3])\n",
    "math_data.insert(0, \"Fjob_teacher\", fjob.iloc[:,4])\n",
    "\n",
    "# categorical data transformation: reason\n",
    "\n",
    "reason = pd.get_dummies(math_data.reason, prefix='reason')\n",
    "\n",
    "math_data.insert(0, \"reason_course\", reason.iloc[:,0])\n",
    "math_data.insert(0, \"reason_home\", reason.iloc[:,1])\n",
    "math_data.insert(0, \"reason_other\", reason.iloc[:,2])\n",
    "math_data.insert(0, \"reason_reputation\", reason.iloc[:,3])\n",
    "\n",
    "# categorical data transformation: guardian\n",
    "\n",
    "guardian = pd.get_dummies(math_data.guardian, prefix='guardian')\n",
    "\n",
    "math_data.insert(0, \"guardian_father\", guardian.iloc[:,0])\n",
    "math_data.insert(0, \"guardian_mother\", guardian.iloc[:,1])\n",
    "math_data.insert(0, \"guardian_other\", guardian.iloc[:,2])\n",
    "\n",
    "# categorical data transformation: schoolsup\n",
    "\n",
    "schoolsup = pd.get_dummies(math_data.schoolsup, prefix='schoolsup')\n",
    "\n",
    "math_data.insert(0, \"schoolsup_no\", schoolsup.iloc[:,0])\n",
    "math_data.insert(0, \"schoolsup_yes\", schoolsup.iloc[:,1])\n",
    "\n",
    "# categorical data transformation: famsup\n",
    "\n",
    "famsup = pd.get_dummies(math_data.famsup, prefix='famsup')\n",
    "\n",
    "math_data.insert(0, \"famsup_no\", famsup.iloc[:,0])\n",
    "math_data.insert(0, \"famsup_yes\", famsup.iloc[:,1])\n",
    "\n",
    "# categorical data transformation: paid\n",
    "\n",
    "paid = pd.get_dummies(math_data.paid, prefix='paid')\n",
    "\n",
    "math_data.insert(0, \"paid_no\", paid.iloc[:,0])\n",
    "math_data.insert(0, \"paid_yes\", paid.iloc[:,1])\n",
    "\n",
    "# categorical data transformation: activities\n",
    "\n",
    "activities = pd.get_dummies(math_data.activities, prefix='activities')\n",
    "\n",
    "math_data.insert(0, \"activities_no\", activities.iloc[:,0])\n",
    "math_data.insert(0, \"activities_yes\", activities.iloc[:,1])\n",
    "\n",
    "# categorical data transformation: nursery\n",
    "\n",
    "nursery = pd.get_dummies(math_data.nursery, prefix='nursery')\n",
    "\n",
    "math_data.insert(0, \"nursery_no\", nursery.iloc[:,0])\n",
    "math_data.insert(0, \"nursery_yes\", nursery.iloc[:,1])\n",
    "\n",
    "# categorical data transformation: higher\n",
    "\n",
    "higher = pd.get_dummies(math_data.higher, prefix='higher')\n",
    "\n",
    "math_data.insert(0, \"higher_no\", higher.iloc[:,0])\n",
    "math_data.insert(0, \"higher_yes\", higher.iloc[:,1])\n",
    "\n",
    "# categorical data transformation: internet\n",
    "\n",
    "internet = pd.get_dummies(math_data.internet, prefix='internet')\n",
    "\n",
    "math_data.insert(0, \"internet_no\", internet.iloc[:,0])\n",
    "math_data.insert(0, \"internet_yes\", internet.iloc[:,1])\n",
    "\n",
    "# categorical data transformation: romantic\n",
    "\n",
    "romantic = pd.get_dummies(math_data.romantic, prefix='romantic')\n",
    "\n",
    "math_data.insert(0, \"romantic_no\", romantic.iloc[:,0])\n",
    "math_data.insert(0, \"romantic_yes\", romantic.iloc[:,1])\n",
    "\n",
    "# remove categorical data columns\n",
    "math_data = math_data.drop(columns=['school','sex','address','famsize','Pstatus','Mjob','Fjob','reason','guardian'])\n",
    "math_data = math_data.drop(columns=['schoolsup','famsup','paid','activities','nursery','higher','internet','romantic'])\n",
    "\n",
    "math_data.info()\n",
    "math_data.head(10)"
   ]
  },
  {
   "cell_type": "code",
   "execution_count": 6,
   "metadata": {},
   "outputs": [],
   "source": [
    "math_data = math_data.drop(columns=['G1','G2'])"
   ]
  },
  {
   "cell_type": "code",
   "execution_count": 7,
   "metadata": {
    "scrolled": true
   },
   "outputs": [
    {
     "name": "stdout",
     "output_type": "stream",
     "text": [
      "0       6\n",
      "1       6\n",
      "2      10\n",
      "3      15\n",
      "4      10\n",
      "       ..\n",
      "390     9\n",
      "391    16\n",
      "392     7\n",
      "393    10\n",
      "394     9\n",
      "Name: G3, Length: 395, dtype: int64\n"
     ]
    }
   ],
   "source": [
    "g3_index = list(math_data.columns).index(\"G3\")\n",
    "train_cols = list(math_data.columns[0:g3_index]) + list(math_data.columns[g3_index+1:])\n",
    "label = math_data.columns[g3_index]\n",
    "X_df = math_data[list(train_cols)]\n",
    "y_df = math_data[label]\n",
    "\n",
    "print(y_df)"
   ]
  },
  {
   "cell_type": "markdown",
   "metadata": {},
   "source": [
    "### Quicker one-hot encoding method using lambda (from Harman's notebook)"
   ]
  },
  {
   "cell_type": "code",
   "execution_count": null,
   "metadata": {},
   "outputs": [],
   "source": [
    "'''\n",
    "school = pd.get_dummies(df['School'], prefix='School')\n",
    "sex = pd.get_dummies(df['Sex'], prefix='Sex')\n",
    "address = pd.get_dummies(df['Address'], prefix='Address')\n",
    "df[\"Family Size\"] = df[\"Family Size\"].apply(lambda x: 1 if x == \"LE3\" else 2)\n",
    "pcohab = pd.get_dummies(df['Parent Cohab Status'], prefix='Parent Cohab')\n",
    "mjob = pd.get_dummies(df['Mother Job'], prefix='Mother Job')\n",
    "fjob = pd.get_dummies(df['Father Job'], prefix='Father Job')\n",
    "reason = pd.get_dummies(df['Reason'], prefix='Reason')\n",
    "guardian = pd.get_dummies(df['Guardian'], prefix='Guardian')\n",
    "df[\"Extra School Support\"] = df[\"Extra School Support\"].apply(lambda x: 1 if x == \"yes\" else 0)\n",
    "df[\"Family Support\"] = df[\"Family Support\"].apply(lambda x: 1 if x == \"yes\" else 0)\n",
    "df[\"Extra Paid Support\"] = df[\"Extra Paid Support\"].apply(lambda x: 1 if x == \"yes\" else 0)\n",
    "df[\"Activities\"] = df[\"Activities\"].apply(lambda x: 1 if x == \"yes\" else 0)\n",
    "df[\"Nursery\"] = df[\"Nursery\"].apply(lambda x: 1 if x == \"yes\" else 0)\n",
    "df[\"Wants HigherEd\"] = df[\"Wants HigherEd\"].apply(lambda x: 1 if x == \"yes\" else 0)\n",
    "df[\"Internet\"] = df[\"Internet\"].apply(lambda x: 1 if x == \"yes\" else 0)\n",
    "df[\"Romantic Rel\"] = df[\"Romantic Rel\"].apply(lambda x: 1 if x == \"yes\" else 0)\n",
    "\n",
    "new_df = df.join([school,sex,address,pcohab,mjob,fjob,reason,guardian])\n",
    "drop_cols = [\"School\", \"Sex\", \"Address\", \"Parent Cohab Status\", \"Mother Job\", \"Father Job\", \"Reason\", \"Guardian\", \"G1\", \"G2\"]\n",
    "new_df = new_df.drop(columns=drop_cols, axis=1)\n",
    "new_df.columns\n",
    "'''"
   ]
  },
  {
   "cell_type": "markdown",
   "metadata": {},
   "source": [
    "### Optional: convert grade data to categorical data"
   ]
  },
  {
   "cell_type": "code",
   "execution_count": 8,
   "metadata": {},
   "outputs": [],
   "source": [
    "# y_df = y_df.apply(lambda x: \"low\" if x < 5 else (\"med\" if x <=15 else \"high\"))\n",
    "#y_df = y_df.apply(lambda x: \"low\" if x <= 10 else \"high\")\n",
    "\n",
    "dataset = {\n",
    "        'X': X_df,\n",
    "        'y': y_df,\n",
    "}"
   ]
  },
  {
   "cell_type": "markdown",
   "metadata": {},
   "source": [
    "# Decision tree"
   ]
  },
  {
   "cell_type": "code",
   "execution_count": 9,
   "metadata": {},
   "outputs": [
    {
     "name": "stdout",
     "output_type": "stream",
     "text": [
      "348    15\n",
      "59     16\n",
      "120    15\n",
      "12     14\n",
      "306    18\n",
      "       ..\n",
      "203     6\n",
      "255     8\n",
      "72      5\n",
      "235    10\n",
      "37     15\n",
      "Name: G3, Length: 276, dtype: int64\n"
     ]
    }
   ],
   "source": [
    "# set up a training and test set\n",
    "from sklearn.model_selection import train_test_split\n",
    "\n",
    "seed = 1;\n",
    "X_train, X_test, y_train, y_test = train_test_split(dataset['X'],dataset['y'], test_size=0.3, random_state=seed)\n",
    "\n",
    "print(y_train)"
   ]
  },
  {
   "cell_type": "code",
   "execution_count": 10,
   "metadata": {
    "scrolled": true
   },
   "outputs": [],
   "source": [
    "from sklearn import tree\n",
    "dtree = tree.DecisionTreeClassifier()\n",
    "dtree = dtree.fit(X_train,y_train)\n",
    "\n",
    "\n",
    "#X = math_data.iloc[:,0:57].values\n",
    "#Y = math_data.iloc[:,58].values\n",
    "\n",
    "#tree.plot_tree(dtree)"
   ]
  },
  {
   "cell_type": "code",
   "execution_count": 27,
   "metadata": {},
   "outputs": [
    {
     "name": "stdout",
     "output_type": "stream",
     "text": [
      "The accuracy of the model on the training set is:  1.0\n",
      "The accuracy of the model on the test set is:  0.10084\n"
     ]
    }
   ],
   "source": [
    "#Training accuracy\n",
    "train_pred = dtree.predict(X_train).tolist()\n",
    "same_train = sum(x == y for x, y in zip(train_pred, y_train.tolist()))\n",
    "accuracy_train = round(same_train/ len(train_pred), 5)\n",
    "\n",
    "#Test set accuracy\n",
    "predictions = dtree.predict(X_test).tolist()\n",
    "same_test = sum(x == y for x, y in zip(predictions, y_test.tolist()))\n",
    "accuracy_test = round(same_test / len(predictions), 5)\n",
    "\n",
    "print(\"The accuracy of the model on the training set is: \", accuracy_train)\n",
    "print(\"The accuracy of the model on the test set is: \", accuracy_test)"
   ]
  },
  {
   "cell_type": "code",
   "execution_count": 28,
   "metadata": {
    "scrolled": true
   },
   "outputs": [
    {
     "name": "stdout",
     "output_type": "stream",
     "text": [
      "[ 0 10  9  9 13 10 11 10 18 15 12 11 15 15 10 15  8 10 15 14 10 14  6 10\n",
      " 13 17 15  5 14 12  8 10  8  9 11  6 12  7  8  9 14  8  0  7  6 11 10  6\n",
      " 18  5  9 13  9  5 10  6 10 16 10 12  0 16 10  7 15  6 10 14  6 15 10 18\n",
      " 12  8 16 15 14 10 15 10 14 11 12  5 10 10  9 12 11 10 16  9  8 11 15  6\n",
      " 15  8  8 16 20 10 13 10 10  4  5 15 13  8 11 11 10  6  0 13 15  5 11]\n"
     ]
    }
   ],
   "source": [
    "dtree_results = dtree.predict(X_test)\n",
    "print(dtree_results)"
   ]
  },
  {
   "cell_type": "code",
   "execution_count": 29,
   "metadata": {
    "scrolled": true
   },
   "outputs": [
    {
     "name": "stdout",
     "output_type": "stream",
     "text": [
      "[0, 10, 8, 10, 10, 12, 8, 11, 11, 8, 11, 13, 8, 7, 10, 10, 15, 16, 8, 10, 11, 19, 10, 11, 16, 5, 11, 9, 10, 13, 12, 11, 10, 11, 14, 8, 10, 10, 7, 10, 9, 9, 15, 9, 11, 13, 18, 9, 14, 10, 5, 10, 11, 6, 6, 11, 6, 15, 10, 0, 0, 0, 13, 17, 13, 8, 10, 15, 9, 10, 16, 12, 12, 14, 12, 11, 10, 13, 12, 12, 0, 11, 15, 11, 13, 10, 10, 13, 0, 11, 14, 0, 19, 10, 0, 8, 9, 6, 12, 18, 15, 7, 9, 14, 11, 18, 13, 6, 13, 14, 9, 12, 8, 11, 8, 13, 10, 12, 11]\n"
     ]
    }
   ],
   "source": [
    "actual_outcomes = list(y_test)\n",
    "print(actual_outcomes)"
   ]
  },
  {
   "cell_type": "markdown",
   "metadata": {},
   "source": [
    "### Decision Tree: Confusion Matrix"
   ]
  },
  {
   "cell_type": "code",
   "execution_count": 24,
   "metadata": {
    "scrolled": false
   },
   "outputs": [
    {
     "data": {
      "text/plain": [
       "<AxesSubplot:title={'center':'Confusion Matrix'}, xlabel='Predicted label', ylabel='True label'>"
      ]
     },
     "execution_count": 24,
     "metadata": {},
     "output_type": "execute_result"
    },
    {
     "data": {
      "image/png": "[encoded data removed]",
      "text/plain": [
       "<Figure size 1296x432 with 2 Axes>"
      ]
     },
     "metadata": {
      "needs_background": "light"
     },
     "output_type": "display_data"
    }
   ],
   "source": [
    "import scikitplot as skplt\n",
    "\n",
    "fig = plt.figure(figsize=(18,6))\n",
    "\n",
    "ax1 = fig.add_subplot(121)\n",
    "skplt.metrics.plot_confusion_matrix(actual_outcomes, dtree_results,\n",
    "                                    title=\"Confusion Matrix\",\n",
    "                                    cmap=\"Oranges\",\n",
    "                                    ax=ax1)"
   ]
  },
  {
   "cell_type": "markdown",
   "metadata": {},
   "source": [
    "### Decision Tree: Feature importance"
   ]
  },
  {
   "cell_type": "code",
   "execution_count": 20,
   "metadata": {
    "scrolled": false
   },
   "outputs": [
    {
     "data": {
      "text/plain": [
       "<AxesSubplot:>"
      ]
     },
     "execution_count": 20,
     "metadata": {},
     "output_type": "execute_result"
    },
    {
     "data": {
      "image/png": "[encoded data removed]",
      "text/plain": [
       "<Figure size 864x576 with 1 Axes>"
      ]
     },
     "metadata": {
      "needs_background": "light"
     },
     "output_type": "display_data"
    }
   ],
   "source": [
    "plt.figure(figsize=(12,8))\n",
    "# Top 10 most important features\n",
    "pd.Series(abs(dtree.feature_importances_), index=dataset['X'].columns).nlargest(20).plot(kind='barh')\n"
   ]
  },
  {
   "cell_type": "markdown",
   "metadata": {},
   "source": [
    "# Logistic Regression"
   ]
  },
  {
   "cell_type": "code",
   "execution_count": 21,
   "metadata": {},
   "outputs": [],
   "source": [
    "from sklearn.linear_model import LogisticRegression\n",
    "\n",
    "lr = LogisticRegression(random_state=0,max_iter=10000).fit(X_train, y_train)"
   ]
  },
  {
   "cell_type": "code",
   "execution_count": 22,
   "metadata": {},
   "outputs": [
    {
     "name": "stdout",
     "output_type": "stream",
     "text": [
      "The accuracy of the model on the training set is:  0.60507\n",
      "The accuracy of the model on the test set is:  0.16807\n"
     ]
    }
   ],
   "source": [
    "#Training accuracy\n",
    "train_pred = lr.predict(X_train).tolist()\n",
    "same_train = sum(x == y for x, y in zip(train_pred, y_train.tolist()))\n",
    "accuracy_train = round(same_train/ len(train_pred), 5)\n",
    "\n",
    "#Test set accuracy\n",
    "predictions = lr.predict(X_test).tolist()\n",
    "same_test = sum(x == y for x, y in zip(predictions, y_test.tolist()))\n",
    "accuracy_test = round(same_test / len(predictions), 5)\n",
    "\n",
    "print(\"The accuracy of the model on the training set is: \", accuracy_train)\n",
    "print(\"The accuracy of the model on the test set is: \", accuracy_test)"
   ]
  },
  {
   "cell_type": "code",
   "execution_count": 25,
   "metadata": {},
   "outputs": [
    {
     "name": "stdout",
     "output_type": "stream",
     "text": [
      "[ 0 10  9 10  0 12  9  8 11 16 13  8  8  5  6 15 15 16 14 14 10 14  6  9\n",
      " 12 10 15 10 11  9 11 15  7 17  9  7  0 10  8 15 11  6  0  0 15  9  8 11\n",
      "  0 10  7 13 13 10  8 11 10 16 11  0  0  0  8 11 15  9 13  0  8  0 12 11\n",
      " 10 18 16 18  0 10  8 16  0 10 11  9 10 10 15 11  0  9 18  0 17 14 18 11\n",
      "  0 15  0 18 13  9  0 10  8 11 15  9  9  6 11 14 10 10  0 10 10 11  6]\n"
     ]
    }
   ],
   "source": [
    "lr_results = lr.predict(X_test)\n",
    "print(lr_results)"
   ]
  },
  {
   "cell_type": "code",
   "execution_count": 32,
   "metadata": {},
   "outputs": [
    {
     "name": "stdout",
     "output_type": "stream",
     "text": [
      "[0, 10, 8, 10, 10, 12, 8, 11, 11, 8, 11, 13, 8, 7, 10, 10, 15, 16, 8, 10, 11, 19, 10, 11, 16, 5, 11, 9, 10, 13, 12, 11, 10, 11, 14, 8, 10, 10, 7, 10, 9, 9, 15, 9, 11, 13, 18, 9, 14, 10, 5, 10, 11, 6, 6, 11, 6, 15, 10, 0, 0, 0, 13, 17, 13, 8, 10, 15, 9, 10, 16, 12, 12, 14, 12, 11, 10, 13, 12, 12, 0, 11, 15, 11, 13, 10, 10, 13, 0, 11, 14, 0, 19, 10, 0, 8, 9, 6, 12, 18, 15, 7, 9, 14, 11, 18, 13, 6, 13, 14, 9, 12, 8, 11, 8, 13, 10, 12, 11]\n"
     ]
    }
   ],
   "source": [
    "print(actual_outcomes)"
   ]
  },
  {
   "cell_type": "markdown",
   "metadata": {},
   "source": [
    "### Logistic Regression: Confusion Matrix"
   ]
  },
  {
   "cell_type": "code",
   "execution_count": 33,
   "metadata": {},
   "outputs": [
    {
     "data": {
      "text/plain": [
       "<AxesSubplot:title={'center':'Confusion Matrix'}, xlabel='Predicted label', ylabel='True label'>"
      ]
     },
     "execution_count": 33,
     "metadata": {},
     "output_type": "execute_result"
    },
    {
     "data": {
      "image/png": "[encoded data removed]",
      "text/plain": [
       "<Figure size 1296x432 with 2 Axes>"
      ]
     },
     "metadata": {
      "needs_background": "light"
     },
     "output_type": "display_data"
    }
   ],
   "source": [
    "import scikitplot as skplt\n",
    "\n",
    "fig = plt.figure(figsize=(18,6))\n",
    "\n",
    "ax1 = fig.add_subplot(121)\n",
    "skplt.metrics.plot_confusion_matrix(actual_outcomes, lr_results,\n",
    "                                    title=\"Confusion Matrix\",\n",
    "                                    cmap=\"Oranges\",\n",
    "                                    ax=ax1)"
   ]
  },
  {
   "cell_type": "markdown",
   "metadata": {},
   "source": [
    "### Logistic Regression: Feature importance"
   ]
  },
  {
   "cell_type": "code",
   "execution_count": 34,
   "metadata": {},
   "outputs": [
    {
     "data": {
      "text/plain": [
       "<AxesSubplot:>"
      ]
     },
     "execution_count": 34,
     "metadata": {},
     "output_type": "execute_result"
    },
    {
     "data": {
      "image/png": "[encoded data removed]",
      "text/plain": [
       "<Figure size 864x576 with 1 Axes>"
      ]
     },
     "metadata": {
      "needs_background": "light"
     },
     "output_type": "display_data"
    }
   ],
   "source": [
    "plt.figure(figsize=(12,8))\n",
    "# Top 10 most important features\n",
    "pd.Series(abs(lr.coef_[0]), index=dataset['X'].columns).nlargest(20).plot(kind='barh')"
   ]
  },
  {
   "cell_type": "code",
   "execution_count": 19,
   "metadata": {},
   "outputs": [
    {
     "ename": "IndexError",
     "evalue": "single positional indexer is out-of-bounds",
     "output_type": "error",
     "traceback": [
      "\u001b[0;31m---------------------------------------------------------------------------\u001b[0m",
      "\u001b[0;31mIndexError\u001b[0m                                Traceback (most recent call last)",
      "\u001b[0;32m/var/folders/zk/gq_1njv54tn9pvbmfr94gx5m0000gn/T/ipykernel_2157/1161614458.py\u001b[0m in \u001b[0;36m<module>\u001b[0;34m\u001b[0m\n\u001b[1;32m      8\u001b[0m \u001b[0mseed\u001b[0m \u001b[0;34m=\u001b[0m \u001b[0;36m0\u001b[0m\u001b[0;34m\u001b[0m\u001b[0;34m\u001b[0m\u001b[0m\n\u001b[1;32m      9\u001b[0m \u001b[0mX\u001b[0m \u001b[0;34m=\u001b[0m \u001b[0mmath_data\u001b[0m\u001b[0;34m.\u001b[0m\u001b[0miloc\u001b[0m\u001b[0;34m[\u001b[0m\u001b[0;34m:\u001b[0m\u001b[0;34m,\u001b[0m\u001b[0;36m0\u001b[0m\u001b[0;34m:\u001b[0m\u001b[0;36m57\u001b[0m\u001b[0;34m]\u001b[0m\u001b[0;34m.\u001b[0m\u001b[0mvalues\u001b[0m\u001b[0;34m\u001b[0m\u001b[0;34m\u001b[0m\u001b[0m\n\u001b[0;32m---> 10\u001b[0;31m \u001b[0mY\u001b[0m \u001b[0;34m=\u001b[0m \u001b[0mmath_data\u001b[0m\u001b[0;34m.\u001b[0m\u001b[0miloc\u001b[0m\u001b[0;34m[\u001b[0m\u001b[0;34m:\u001b[0m\u001b[0;34m,\u001b[0m\u001b[0;36m58\u001b[0m\u001b[0;34m]\u001b[0m\u001b[0;34m.\u001b[0m\u001b[0mvalues\u001b[0m\u001b[0;34m\u001b[0m\u001b[0;34m\u001b[0m\u001b[0m\n\u001b[0m\u001b[1;32m     11\u001b[0m \u001b[0mX_train\u001b[0m\u001b[0;34m,\u001b[0m \u001b[0mX_test\u001b[0m\u001b[0;34m,\u001b[0m \u001b[0mY_train\u001b[0m\u001b[0;34m,\u001b[0m \u001b[0mY_test\u001b[0m \u001b[0;34m=\u001b[0m \u001b[0mtrain_test_split\u001b[0m\u001b[0;34m(\u001b[0m\u001b[0mX\u001b[0m\u001b[0;34m,\u001b[0m \u001b[0mY\u001b[0m\u001b[0;34m,\u001b[0m \u001b[0mtest_size\u001b[0m\u001b[0;34m=\u001b[0m\u001b[0;36m0.20\u001b[0m\u001b[0;34m,\u001b[0m \u001b[0mrandom_state\u001b[0m\u001b[0;34m=\u001b[0m\u001b[0mseed\u001b[0m\u001b[0;34m)\u001b[0m\u001b[0;34m\u001b[0m\u001b[0;34m\u001b[0m\u001b[0m\n\u001b[1;32m     12\u001b[0m \u001b[0;34m\u001b[0m\u001b[0m\n",
      "\u001b[0;32m~/opt/anaconda3/lib/python3.8/site-packages/pandas/core/indexing.py\u001b[0m in \u001b[0;36m__getitem__\u001b[0;34m(self, key)\u001b[0m\n\u001b[1;32m    923\u001b[0m                 \u001b[0;32mwith\u001b[0m \u001b[0msuppress\u001b[0m\u001b[0;34m(\u001b[0m\u001b[0mKeyError\u001b[0m\u001b[0;34m,\u001b[0m \u001b[0mIndexError\u001b[0m\u001b[0;34m)\u001b[0m\u001b[0;34m:\u001b[0m\u001b[0;34m\u001b[0m\u001b[0;34m\u001b[0m\u001b[0m\n\u001b[1;32m    924\u001b[0m                     \u001b[0;32mreturn\u001b[0m \u001b[0mself\u001b[0m\u001b[0;34m.\u001b[0m\u001b[0mobj\u001b[0m\u001b[0;34m.\u001b[0m\u001b[0m_get_value\u001b[0m\u001b[0;34m(\u001b[0m\u001b[0;34m*\u001b[0m\u001b[0mkey\u001b[0m\u001b[0;34m,\u001b[0m \u001b[0mtakeable\u001b[0m\u001b[0;34m=\u001b[0m\u001b[0mself\u001b[0m\u001b[0;34m.\u001b[0m\u001b[0m_takeable\u001b[0m\u001b[0;34m)\u001b[0m\u001b[0;34m\u001b[0m\u001b[0;34m\u001b[0m\u001b[0m\n\u001b[0;32m--> 925\u001b[0;31m             \u001b[0;32mreturn\u001b[0m \u001b[0mself\u001b[0m\u001b[0;34m.\u001b[0m\u001b[0m_getitem_tuple\u001b[0m\u001b[0;34m(\u001b[0m\u001b[0mkey\u001b[0m\u001b[0;34m)\u001b[0m\u001b[0;34m\u001b[0m\u001b[0;34m\u001b[0m\u001b[0m\n\u001b[0m\u001b[1;32m    926\u001b[0m         \u001b[0;32melse\u001b[0m\u001b[0;34m:\u001b[0m\u001b[0;34m\u001b[0m\u001b[0;34m\u001b[0m\u001b[0m\n\u001b[1;32m    927\u001b[0m             \u001b[0;31m# we by definition only have the 0th axis\u001b[0m\u001b[0;34m\u001b[0m\u001b[0;34m\u001b[0m\u001b[0;34m\u001b[0m\u001b[0m\n",
      "\u001b[0;32m~/opt/anaconda3/lib/python3.8/site-packages/pandas/core/indexing.py\u001b[0m in \u001b[0;36m_getitem_tuple\u001b[0;34m(self, tup)\u001b[0m\n\u001b[1;32m   1504\u001b[0m     \u001b[0;32mdef\u001b[0m \u001b[0m_getitem_tuple\u001b[0m\u001b[0;34m(\u001b[0m\u001b[0mself\u001b[0m\u001b[0;34m,\u001b[0m \u001b[0mtup\u001b[0m\u001b[0;34m:\u001b[0m \u001b[0mtuple\u001b[0m\u001b[0;34m)\u001b[0m\u001b[0;34m:\u001b[0m\u001b[0;34m\u001b[0m\u001b[0;34m\u001b[0m\u001b[0m\n\u001b[1;32m   1505\u001b[0m \u001b[0;34m\u001b[0m\u001b[0m\n\u001b[0;32m-> 1506\u001b[0;31m         \u001b[0mself\u001b[0m\u001b[0;34m.\u001b[0m\u001b[0m_has_valid_tuple\u001b[0m\u001b[0;34m(\u001b[0m\u001b[0mtup\u001b[0m\u001b[0;34m)\u001b[0m\u001b[0;34m\u001b[0m\u001b[0;34m\u001b[0m\u001b[0m\n\u001b[0m\u001b[1;32m   1507\u001b[0m         \u001b[0;32mwith\u001b[0m \u001b[0msuppress\u001b[0m\u001b[0;34m(\u001b[0m\u001b[0mIndexingError\u001b[0m\u001b[0;34m)\u001b[0m\u001b[0;34m:\u001b[0m\u001b[0;34m\u001b[0m\u001b[0;34m\u001b[0m\u001b[0m\n\u001b[1;32m   1508\u001b[0m             \u001b[0;32mreturn\u001b[0m \u001b[0mself\u001b[0m\u001b[0;34m.\u001b[0m\u001b[0m_getitem_lowerdim\u001b[0m\u001b[0;34m(\u001b[0m\u001b[0mtup\u001b[0m\u001b[0;34m)\u001b[0m\u001b[0;34m\u001b[0m\u001b[0;34m\u001b[0m\u001b[0m\n",
      "\u001b[0;32m~/opt/anaconda3/lib/python3.8/site-packages/pandas/core/indexing.py\u001b[0m in \u001b[0;36m_has_valid_tuple\u001b[0;34m(self, key)\u001b[0m\n\u001b[1;32m    752\u001b[0m         \u001b[0;32mfor\u001b[0m \u001b[0mi\u001b[0m\u001b[0;34m,\u001b[0m \u001b[0mk\u001b[0m \u001b[0;32min\u001b[0m \u001b[0menumerate\u001b[0m\u001b[0;34m(\u001b[0m\u001b[0mkey\u001b[0m\u001b[0;34m)\u001b[0m\u001b[0;34m:\u001b[0m\u001b[0;34m\u001b[0m\u001b[0;34m\u001b[0m\u001b[0m\n\u001b[1;32m    753\u001b[0m             \u001b[0;32mtry\u001b[0m\u001b[0;34m:\u001b[0m\u001b[0;34m\u001b[0m\u001b[0;34m\u001b[0m\u001b[0m\n\u001b[0;32m--> 754\u001b[0;31m                 \u001b[0mself\u001b[0m\u001b[0;34m.\u001b[0m\u001b[0m_validate_key\u001b[0m\u001b[0;34m(\u001b[0m\u001b[0mk\u001b[0m\u001b[0;34m,\u001b[0m \u001b[0mi\u001b[0m\u001b[0;34m)\u001b[0m\u001b[0;34m\u001b[0m\u001b[0;34m\u001b[0m\u001b[0m\n\u001b[0m\u001b[1;32m    755\u001b[0m             \u001b[0;32mexcept\u001b[0m \u001b[0mValueError\u001b[0m \u001b[0;32mas\u001b[0m \u001b[0merr\u001b[0m\u001b[0;34m:\u001b[0m\u001b[0;34m\u001b[0m\u001b[0;34m\u001b[0m\u001b[0m\n\u001b[1;32m    756\u001b[0m                 raise ValueError(\n",
      "\u001b[0;32m~/opt/anaconda3/lib/python3.8/site-packages/pandas/core/indexing.py\u001b[0m in \u001b[0;36m_validate_key\u001b[0;34m(self, key, axis)\u001b[0m\n\u001b[1;32m   1407\u001b[0m             \u001b[0;32mreturn\u001b[0m\u001b[0;34m\u001b[0m\u001b[0;34m\u001b[0m\u001b[0m\n\u001b[1;32m   1408\u001b[0m         \u001b[0;32melif\u001b[0m \u001b[0mis_integer\u001b[0m\u001b[0;34m(\u001b[0m\u001b[0mkey\u001b[0m\u001b[0;34m)\u001b[0m\u001b[0;34m:\u001b[0m\u001b[0;34m\u001b[0m\u001b[0;34m\u001b[0m\u001b[0m\n\u001b[0;32m-> 1409\u001b[0;31m             \u001b[0mself\u001b[0m\u001b[0;34m.\u001b[0m\u001b[0m_validate_integer\u001b[0m\u001b[0;34m(\u001b[0m\u001b[0mkey\u001b[0m\u001b[0;34m,\u001b[0m \u001b[0maxis\u001b[0m\u001b[0;34m)\u001b[0m\u001b[0;34m\u001b[0m\u001b[0;34m\u001b[0m\u001b[0m\n\u001b[0m\u001b[1;32m   1410\u001b[0m         \u001b[0;32melif\u001b[0m \u001b[0misinstance\u001b[0m\u001b[0;34m(\u001b[0m\u001b[0mkey\u001b[0m\u001b[0;34m,\u001b[0m \u001b[0mtuple\u001b[0m\u001b[0;34m)\u001b[0m\u001b[0;34m:\u001b[0m\u001b[0;34m\u001b[0m\u001b[0;34m\u001b[0m\u001b[0m\n\u001b[1;32m   1411\u001b[0m             \u001b[0;31m# a tuple should already have been caught by this point\u001b[0m\u001b[0;34m\u001b[0m\u001b[0;34m\u001b[0m\u001b[0;34m\u001b[0m\u001b[0m\n",
      "\u001b[0;32m~/opt/anaconda3/lib/python3.8/site-packages/pandas/core/indexing.py\u001b[0m in \u001b[0;36m_validate_integer\u001b[0;34m(self, key, axis)\u001b[0m\n\u001b[1;32m   1498\u001b[0m         \u001b[0mlen_axis\u001b[0m \u001b[0;34m=\u001b[0m \u001b[0mlen\u001b[0m\u001b[0;34m(\u001b[0m\u001b[0mself\u001b[0m\u001b[0;34m.\u001b[0m\u001b[0mobj\u001b[0m\u001b[0;34m.\u001b[0m\u001b[0m_get_axis\u001b[0m\u001b[0;34m(\u001b[0m\u001b[0maxis\u001b[0m\u001b[0;34m)\u001b[0m\u001b[0;34m)\u001b[0m\u001b[0;34m\u001b[0m\u001b[0;34m\u001b[0m\u001b[0m\n\u001b[1;32m   1499\u001b[0m         \u001b[0;32mif\u001b[0m \u001b[0mkey\u001b[0m \u001b[0;34m>=\u001b[0m \u001b[0mlen_axis\u001b[0m \u001b[0;32mor\u001b[0m \u001b[0mkey\u001b[0m \u001b[0;34m<\u001b[0m \u001b[0;34m-\u001b[0m\u001b[0mlen_axis\u001b[0m\u001b[0;34m:\u001b[0m\u001b[0;34m\u001b[0m\u001b[0;34m\u001b[0m\u001b[0m\n\u001b[0;32m-> 1500\u001b[0;31m             \u001b[0;32mraise\u001b[0m \u001b[0mIndexError\u001b[0m\u001b[0;34m(\u001b[0m\u001b[0;34m\"single positional indexer is out-of-bounds\"\u001b[0m\u001b[0;34m)\u001b[0m\u001b[0;34m\u001b[0m\u001b[0;34m\u001b[0m\u001b[0m\n\u001b[0m\u001b[1;32m   1501\u001b[0m \u001b[0;34m\u001b[0m\u001b[0m\n\u001b[1;32m   1502\u001b[0m     \u001b[0;31m# -------------------------------------------------------------------\u001b[0m\u001b[0;34m\u001b[0m\u001b[0;34m\u001b[0m\u001b[0;34m\u001b[0m\u001b[0m\n",
      "\u001b[0;31mIndexError\u001b[0m: single positional indexer is out-of-bounds"
     ]
    }
   ],
   "source": [
    "from interpret import set_visualize_provider\n",
    "from interpret.provider import InlineProvider\n",
    "set_visualize_provider(InlineProvider())\n",
    "\n",
    "from interpret.glassbox import ClassificationTree\n",
    "from interpret import show\n",
    "\n",
    "seed = 0\n",
    "X = math_data.iloc[:,0:57].values\n",
    "Y = math_data.iloc[:,58].values\n",
    "X_train, X_test, Y_train, Y_test = train_test_split(X, Y, test_size=0.20, random_state=seed)\n",
    "\n",
    "dt = ClassificationTree(random_state=seed)\n",
    "dt.fit(X_train, Y_train)\n",
    "\n",
    "dt_global = dt.explain_global()\n",
    "show(dt_global)"
   ]
  }
 ],
 "metadata": {
  "kernelspec": {
   "display_name": "Python 3 (ipykernel)",
   "language": "python",
   "name": "python3"
  },
  "language_info": {
   "codemirror_mode": {
    "name": "ipython",
    "version": 3
   },
   "file_extension": ".py",
   "mimetype": "text/x-python",
   "name": "python",
   "nbconvert_exporter": "python",
   "pygments_lexer": "ipython3",
   "version": "3.8.12"
  }
 },
 "nbformat": 4,
 "nbformat_minor": 4
}
